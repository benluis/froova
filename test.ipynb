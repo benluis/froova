{
 "cells": [
  {
   "cell_type": "code",
   "id": "initial_id",
   "metadata": {
    "collapsed": true,
    "ExecuteTime": {
     "end_time": "2024-09-08T05:20:20.329272Z",
     "start_time": "2024-09-08T05:20:20.325170Z"
    }
   },
   "source": [
    "import pandas as pd\n",
    "from utils import *\n"
   ],
   "outputs": [],
   "execution_count": 164
  },
  {
   "metadata": {
    "ExecuteTime": {
     "end_time": "2024-09-08T05:49:47.997272Z",
     "start_time": "2024-09-08T05:49:47.991180Z"
    }
   },
   "cell_type": "code",
   "source": "ingredients_df = pd.read_csv(\"/Users/Ben/PycharmProjects/froova/ingredients_list.csv\")",
   "id": "2cb8c293e1e4a089",
   "outputs": [],
   "execution_count": 174
  },
  {
   "metadata": {
    "ExecuteTime": {
     "end_time": "2024-09-08T05:49:48.411623Z",
     "start_time": "2024-09-08T05:49:48.405624Z"
    }
   },
   "cell_type": "code",
   "source": [
    "import openai\n",
    "import pandas as pd\n",
    "\n",
    "def prompt_for_replacements(ingredients_df):\n",
    "    if \"Can_not_eat\" in ingredients_df.columns and ingredients_df['Can_not_eat'].any():\n",
    "        # Filter to only those ingredients that cannot be eaten\n",
    "        restricted_ingredients = ingredients_df[ingredients_df['Can_not_eat'] == True]\n",
    "\n",
    "        for index, row in restricted_ingredients.iterrows():\n",
    "            original_ingredient = row['Name']\n",
    "            # Prompt GPT for a single replacement suggestion\n",
    "            prompt_text = f\"Provide a single ingredient replacement for {original_ingredient}. Make sure you only respond with the name of the substitution only, do not say anything else or else. Also make sure the state of matter of the ingredient is not changed. For example dont, replace eggs with a solid, replace it with something else that is liquid\"\n",
    "            response = openai.chat.completions.create(\n",
    "                model=\"gpt-4o-mini\",\n",
    "                messages=[{\"role\": \"system\", \"content\": \"You are a knowledgeable chef tasked with suggesting a single ingredient replacement.\"},\n",
    "                          {\"role\": \"user\", \"content\": prompt_text}]\n",
    "            )\n",
    "            suggested_replacement = response.choices[0].message.content.strip()\n",
    "\n",
    "            # Ask user for approval to replace\n",
    "            user_approval = input(f\"Do you want to replace {original_ingredient} with {suggested_replacement}? (Yes/No): \")\n",
    "            if user_approval.lower() == 'yes':\n",
    "                # Prompt GPT for volume and weight if the replacement is approved\n",
    "                volume_weight_prompt = f\"Provide the volume and weight for {suggested_replacement}, formatted as 'volume, weight'.\"\n",
    "                volume_weight_response = openai.chat.completions.create(\n",
    "                    model=\"gpt-4o-mini\",\n",
    "                    messages=[{\"role\": \"system\", \"content\": \"You are a knowledgeable chef tasked with providing the volume and weight of an ingredient formatted as 'volume, weight'. Do not include any extra information.\"},\n",
    "                              {\"role\": \"user\", \"content\": volume_weight_prompt}]\n",
    "                )\n",
    "                volume_and_weight = volume_weight_response.choices[0].message.content.strip()\n",
    "\n",
    "                # Split the response into volume and weight\n",
    "                if \", \" in volume_and_weight:\n",
    "                    volume, weight = volume_and_weight.split(\", \")\n",
    "                    ingredients_df.at[index, 'Name'] = suggested_replacement\n",
    "                    ingredients_df.at[index, 'Volume'] = volume\n",
    "                    ingredients_df.at[index, 'Weight'] = weight\n",
    "                    ingredients_df.at[index, 'Can_not_eat'] = False\n",
    "                else:\n",
    "                    # If the format is not as expected, retain the existing volume and weight\n",
    "                    ingredients_df.at[index, 'Name'] = suggested_replacement\n",
    "                    ingredients_df.at[index, 'Can_not_eat'] = False\n",
    "\n",
    "        # Save updated DataFrame to CSV file\n",
    "        ingredients_df.to_csv('updated_ingredients_list.csv', index=False)\n",
    "        print(\"Updated ingredients list saved to 'updated_ingredients_list.csv'.\")\n",
    "    else:\n",
    "        print(\"No ingredients need to be replaced due to dietary restrictions.\")\n",
    "\n",
    "    return ingredients_df\n"
   ],
   "id": "a1830cf20bbbccf0",
   "outputs": [],
   "execution_count": 175
  },
  {
   "metadata": {
    "ExecuteTime": {
     "end_time": "2024-09-08T05:50:00.518426Z",
     "start_time": "2024-09-08T05:49:48.881457Z"
    }
   },
   "cell_type": "code",
   "source": [
    "x = prompt_for_replacements(ingredients_df)\n",
    "x.to_csv('updated_ingredients_list.csv')"
   ],
   "id": "970f18ae21dd5f54",
   "outputs": [
    {
     "name": "stdout",
     "output_type": "stream",
     "text": [
      "Updated ingredients list saved to 'updated_ingredients_list.csv'.\n"
     ]
    }
   ],
   "execution_count": 176
  },
  {
   "metadata": {
    "ExecuteTime": {
     "end_time": "2024-09-08T05:20:54.648962Z",
     "start_time": "2024-09-08T05:20:54.632633Z"
    }
   },
   "cell_type": "code",
   "source": "pd.read_csv(\"updated_ingredients_list.csv\")",
   "id": "defbda686b182bf4",
   "outputs": [
    {
     "data": {
      "text/plain": [
       "    Unnamed: 0                            Name               Volume  \\\n",
       "0            0               all-purpose flour       2 and 1/4 cups   \n",
       "1            1                     baking soda           1 teaspoon   \n",
       "2            2                      cornstarch  1 and 1/2 teaspoons   \n",
       "3            3                            salt         1/2 teaspoon   \n",
       "4            4                     Coconut oil                1 cup   \n",
       "5            5       light or dark brown sugar              3/4 cup   \n",
       "6            6                granulated sugar              1/2 cup   \n",
       "7            7  Flaxseed meal mixed with water                1 cup   \n",
       "8            8                     Silken tofu                1 cup   \n",
       "9            9            pure vanilla extract          2 teaspoons   \n",
       "10          10      semi-sweet chocolate chips       1 and 1/4 cups   \n",
       "\n",
       "       Weight  Can_not_eat  \n",
       "0        280g        False  \n",
       "1         NaN        False  \n",
       "2         NaN        False  \n",
       "3         NaN        False  \n",
       "4       218 g        False  \n",
       "5        150g        False  \n",
       "6        100g        False  \n",
       "7   120 grams        False  \n",
       "8   240 grams        False  \n",
       "9         NaN        False  \n",
       "10       225g        False  "
      ],
      "text/html": [
       "<div>\n",
       "<style scoped>\n",
       "    .dataframe tbody tr th:only-of-type {\n",
       "        vertical-align: middle;\n",
       "    }\n",
       "\n",
       "    .dataframe tbody tr th {\n",
       "        vertical-align: top;\n",
       "    }\n",
       "\n",
       "    .dataframe thead th {\n",
       "        text-align: right;\n",
       "    }\n",
       "</style>\n",
       "<table border=\"1\" class=\"dataframe\">\n",
       "  <thead>\n",
       "    <tr style=\"text-align: right;\">\n",
       "      <th></th>\n",
       "      <th>Unnamed: 0</th>\n",
       "      <th>Name</th>\n",
       "      <th>Volume</th>\n",
       "      <th>Weight</th>\n",
       "      <th>Can_not_eat</th>\n",
       "    </tr>\n",
       "  </thead>\n",
       "  <tbody>\n",
       "    <tr>\n",
       "      <th>0</th>\n",
       "      <td>0</td>\n",
       "      <td>all-purpose flour</td>\n",
       "      <td>2 and 1/4 cups</td>\n",
       "      <td>280g</td>\n",
       "      <td>False</td>\n",
       "    </tr>\n",
       "    <tr>\n",
       "      <th>1</th>\n",
       "      <td>1</td>\n",
       "      <td>baking soda</td>\n",
       "      <td>1 teaspoon</td>\n",
       "      <td>NaN</td>\n",
       "      <td>False</td>\n",
       "    </tr>\n",
       "    <tr>\n",
       "      <th>2</th>\n",
       "      <td>2</td>\n",
       "      <td>cornstarch</td>\n",
       "      <td>1 and 1/2 teaspoons</td>\n",
       "      <td>NaN</td>\n",
       "      <td>False</td>\n",
       "    </tr>\n",
       "    <tr>\n",
       "      <th>3</th>\n",
       "      <td>3</td>\n",
       "      <td>salt</td>\n",
       "      <td>1/2 teaspoon</td>\n",
       "      <td>NaN</td>\n",
       "      <td>False</td>\n",
       "    </tr>\n",
       "    <tr>\n",
       "      <th>4</th>\n",
       "      <td>4</td>\n",
       "      <td>Coconut oil</td>\n",
       "      <td>1 cup</td>\n",
       "      <td>218 g</td>\n",
       "      <td>False</td>\n",
       "    </tr>\n",
       "    <tr>\n",
       "      <th>5</th>\n",
       "      <td>5</td>\n",
       "      <td>light or dark brown sugar</td>\n",
       "      <td>3/4 cup</td>\n",
       "      <td>150g</td>\n",
       "      <td>False</td>\n",
       "    </tr>\n",
       "    <tr>\n",
       "      <th>6</th>\n",
       "      <td>6</td>\n",
       "      <td>granulated sugar</td>\n",
       "      <td>1/2 cup</td>\n",
       "      <td>100g</td>\n",
       "      <td>False</td>\n",
       "    </tr>\n",
       "    <tr>\n",
       "      <th>7</th>\n",
       "      <td>7</td>\n",
       "      <td>Flaxseed meal mixed with water</td>\n",
       "      <td>1 cup</td>\n",
       "      <td>120 grams</td>\n",
       "      <td>False</td>\n",
       "    </tr>\n",
       "    <tr>\n",
       "      <th>8</th>\n",
       "      <td>8</td>\n",
       "      <td>Silken tofu</td>\n",
       "      <td>1 cup</td>\n",
       "      <td>240 grams</td>\n",
       "      <td>False</td>\n",
       "    </tr>\n",
       "    <tr>\n",
       "      <th>9</th>\n",
       "      <td>9</td>\n",
       "      <td>pure vanilla extract</td>\n",
       "      <td>2 teaspoons</td>\n",
       "      <td>NaN</td>\n",
       "      <td>False</td>\n",
       "    </tr>\n",
       "    <tr>\n",
       "      <th>10</th>\n",
       "      <td>10</td>\n",
       "      <td>semi-sweet chocolate chips</td>\n",
       "      <td>1 and 1/4 cups</td>\n",
       "      <td>225g</td>\n",
       "      <td>False</td>\n",
       "    </tr>\n",
       "  </tbody>\n",
       "</table>\n",
       "</div>"
      ]
     },
     "execution_count": 168,
     "metadata": {},
     "output_type": "execute_result"
    }
   ],
   "execution_count": 168
  },
  {
   "metadata": {
    "ExecuteTime": {
     "end_time": "2024-09-08T08:14:35.045426Z",
     "start_time": "2024-09-08T08:14:19.110924Z"
    }
   },
   "cell_type": "code",
   "source": [
    "from selenium import webdriver\n",
    "from selenium.webdriver.chrome.service import Service\n",
    "from webdriver_manager.chrome import ChromeDriverManager\n",
    "from bs4 import BeautifulSoup\n",
    "import csv\n",
    "import time\n",
    "\n",
    "# Initialize Chrome WebDriver\n",
    "driver = webdriver.Chrome(service=Service(ChromeDriverManager().install()))\n",
    "\n",
    "# URL for Sprouts search page for \"flour\"\n",
    "url = \"https://shop.sprouts.com/search?search_term=flour&search_is_autocomplete=false\"\n",
    "\n",
    "# Open the URL in the browser\n",
    "driver.get(url)\n",
    "\n",
    "# Wait for the page to fully load\n",
    "time.sleep(5)  # You can adjust this if needed\n",
    "\n",
    "# Get the page source and parse it with BeautifulSoup\n",
    "html = driver.page_source\n",
    "soup = BeautifulSoup(html, 'html.parser')\n",
    "\n",
    "# Close the browser after fetching the content\n",
    "driver.quit()\n",
    "\n",
    "# List to store product data\n",
    "products = []\n",
    "\n",
    "# Find all product cards\n",
    "product_cards = soup.find_all('li', class_='product-wrapper')\n",
    "\n",
    "# Loop through each product card and extract the required information\n",
    "for card in product_cards:\n",
    "    product = {}\n",
    "\n",
    "    # Extract the product name\n",
    "    product_name_tag = card.find('div', class_='css-15uwigl')\n",
    "    if product_name_tag:\n",
    "        product['name'] = product_name_tag.text.strip()\n",
    "    else:\n",
    "        product['name'] = 'N/A'  # If the name is not found, mark it as 'N/A'\n",
    "\n",
    "    # Extract the product price\n",
    "    product_price_tag = card.find('span', class_='css-coqxwd')\n",
    "    if product_price_tag:\n",
    "        product['price'] = product_price_tag.text.strip()\n",
    "    else:\n",
    "        product['price'] = 'N/A'  # If the price is not found, mark it as 'N/A'\n",
    "\n",
    "    # Extract the product image URL\n",
    "    product_image_tag = card.find('img', class_='css-1eer7o2')\n",
    "    if product_image_tag and 'src' in product_image_tag.attrs:\n",
    "        product['image_url'] = product_image_tag['src']\n",
    "    else:\n",
    "        product['image_url'] = 'N/A'  # If the image is not found, mark it as 'N/A'\n",
    "\n",
    "    # Add the product to the list if any fields were found\n",
    "    products.append(product)\n",
    "\n",
    "# Save the extracted data to a CSV file\n",
    "filename = 'sprouts_flour_products.csv'\n",
    "with open(filename, 'w', newline='', encoding='utf-8') as f:\n",
    "    w = csv.DictWriter(f, fieldnames=['name', 'price', 'image_url'])\n",
    "    w.writeheader()\n",
    "    for product in products:\n",
    "        w.writerow(product)\n",
    "\n",
    "print(f\"Data has been saved to {filename}\")\n"
   ],
   "id": "11fda4eb7803279e",
   "outputs": [
    {
     "name": "stdout",
     "output_type": "stream",
     "text": [
      "Data has been saved to sprouts_flour_products.csv\n"
     ]
    }
   ],
   "execution_count": 211
  },
  {
   "metadata": {},
   "cell_type": "code",
   "outputs": [],
   "execution_count": null,
   "source": "",
   "id": "4ae81eb9f1b2dbba"
  }
 ],
 "metadata": {
  "kernelspec": {
   "display_name": "Python 3",
   "language": "python",
   "name": "python3"
  },
  "language_info": {
   "codemirror_mode": {
    "name": "ipython",
    "version": 2
   },
   "file_extension": ".py",
   "mimetype": "text/x-python",
   "name": "python",
   "nbconvert_exporter": "python",
   "pygments_lexer": "ipython2",
   "version": "2.7.6"
  }
 },
 "nbformat": 4,
 "nbformat_minor": 5
}
